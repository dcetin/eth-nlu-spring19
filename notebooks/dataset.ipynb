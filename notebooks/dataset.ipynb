{
 "cells": [
  {
   "cell_type": "code",
   "execution_count": 1,
   "metadata": {},
   "outputs": [],
   "source": [
    "%load_ext autoreload\n",
    "%autoreload 2"
   ]
  },
  {
   "cell_type": "code",
   "execution_count": 2,
   "metadata": {},
   "outputs": [],
   "source": [
    "import pandas as pd\n",
    "from sct_dataset import read_sct_stories\n",
    "from sct_dataset import SCTCachedReader\n",
    "from tokenizer import Tokenizer"
   ]
  },
  {
   "cell_type": "code",
   "execution_count": 3,
   "metadata": {},
   "outputs": [],
   "source": [
    "DATA_DIR = 'data'\n",
    "CACHE_DIR = 'cache'\n",
    "\n",
    "# download the data\n",
    "! test -d $DATA_DIR || mkdir $DATA_DIR\n",
    "! test -f \"$DATA_DIR/sct_train.csv\" || curl \"http://n.ethz.ch/~thomasdi/download/sct_train.csv\" --output \"$DATA_DIR/sct_train.csv\"\n",
    "! test -f \"$DATA_DIR/sct_val.csv\" || curl \"http://n.ethz.ch/~thomasdi/download/sct_val.csv\" --output \"$DATA_DIR/sct_val.csv\"\n",
    "\n",
    "# initialize cache dir\n",
    "! test -d $CACHE_DIR && rm -rf $CACHE_DIR"
   ]
  },
  {
   "cell_type": "code",
   "execution_count": 4,
   "metadata": {},
   "outputs": [],
   "source": [
    "texts_train = read_sct_stories('data/sct_train.csv')\n",
    "texts_eval = read_sct_stories('data/sct_val.csv')"
   ]
  },
  {
   "cell_type": "code",
   "execution_count": 5,
   "metadata": {},
   "outputs": [],
   "source": [
    "tok = Tokenizer().fit(texts_train.begin + texts_train.end_real)"
   ]
  },
  {
   "cell_type": "code",
   "execution_count": 6,
   "metadata": {},
   "outputs": [
    {
     "data": {
      "text/plain": [
       "34961"
      ]
     },
     "execution_count": 6,
     "metadata": {},
     "output_type": "execute_result"
    }
   ],
   "source": [
    "tok.vocabulary_size"
   ]
  },
  {
   "cell_type": "code",
   "execution_count": 7,
   "metadata": {},
   "outputs": [
    {
     "name": "stdout",
     "output_type": "stream",
     "text": [
      "# STATS FOR TRAINING DATA\n",
      "count    352644.000000\n",
      "mean         44.065451\n",
      "std          13.230812\n",
      "min           9.000000\n",
      "25%          34.000000\n",
      "50%          44.000000\n",
      "75%          54.000000\n",
      "max          86.000000\n",
      "dtype: float64\n",
      "# STATS FOR EVAL DATA\n",
      "count    7484.000000\n",
      "mean       45.646045\n",
      "std        12.919189\n",
      "min        11.000000\n",
      "25%        36.000000\n",
      "50%        46.000000\n",
      "75%        56.000000\n",
      "max        72.000000\n",
      "dtype: float64\n"
     ]
    }
   ],
   "source": [
    "print('# STATS FOR TRAINING DATA')\n",
    "print(pd.Series([len(seq) for seq in texts_train.begin]).describe())\n",
    "print('# STATS FOR EVAL DATA')\n",
    "print(pd.Series([len(seq) for seq in texts_eval.begin]).describe())"
   ]
  },
  {
   "cell_type": "code",
   "execution_count": 8,
   "metadata": {},
   "outputs": [],
   "source": [
    "MAX_SEQ_LEN = 91\n",
    "\n",
    "# create cachedir\n",
    "! test -d $CACHE_DIR || mkdir $CACHE_DIR\n",
    "\n",
    "# prepare SCT reader\n",
    "sctreader = SCTCachedReader(CACHE_DIR, tok, MAX_SEQ_LEN)"
   ]
  },
  {
   "cell_type": "code",
   "execution_count": 9,
   "metadata": {},
   "outputs": [
    {
     "data": {
      "text/plain": [
       "SCTSequences(begin=array([[[    0,     0,     0, ...,  2457,     4,     2],\n",
       "        [    0,     0,     0, ...,   399,     4,     2],\n",
       "        [    0,     0,     0, ...,   399,     4,     2],\n",
       "        [    0,     0,     0, ...,   119,     4,     2]],\n",
       "\n",
       "       [[    0,     0,     0, ...,    15,     4,     2],\n",
       "        [    0,     0,     0, ...,   318,     4,     2],\n",
       "        [    0,     0,     0, ...,  2008,     4,     2],\n",
       "        [    0,     0,     0, ...,  9822,    42,     2]],\n",
       "\n",
       "       [[    0,     0,     0, ...,  1673,     4,     2],\n",
       "        [    0,     0,     0, ...,  1673,     4,     2],\n",
       "        [    0,     0,     0, ...,  2564,    13,     2],\n",
       "        [    0,     0,     0, ...,  5308,     4,     2]],\n",
       "\n",
       "       ...,\n",
       "\n",
       "       [[    0,     0,     0, ...,    99,     4,     2],\n",
       "        [    0,     0,     0, ...,    73,     4,     2],\n",
       "        [    0,     0,     0, ...,  3955,     4,     2],\n",
       "        [    0,     0,     0, ...,  1018,     4,     2]],\n",
       "\n",
       "       [[    0,     0,     0, ...,   320,     4,     2],\n",
       "        [    0,     0,     0, ...,   190,     4,     2],\n",
       "        [    0,     0,     0, ...,  2772,     4,     2],\n",
       "        [    0,     0,     0, ...,   164,     4,     2]],\n",
       "\n",
       "       [[    0,     0,     0, ...,  3362,     4,     2],\n",
       "        [    0,     0,     0, ...,   139,     4,     2],\n",
       "        [    0,     0,     0, ..., 32893,     4,     2],\n",
       "        [    0,     0,     0, ...,     6,     4,     2]]], dtype=int32), end_real=array([[   0,    0,    0, ..., 1009,    4,    2],\n",
       "       [   0,    0,    0, ...,   53,    4,    2],\n",
       "       [   0,    0,    0, ..., 5811,    4,    2],\n",
       "       ...,\n",
       "       [   0,    0,    0, ...,  111,    4,    2],\n",
       "       [   0,    0,    0, ...,   62,    4,    2],\n",
       "       [   0,    0,    0, ...,   15,    4,    2]], dtype=int32), end_fake=None)"
      ]
     },
     "execution_count": 9,
     "metadata": {},
     "output_type": "execute_result"
    }
   ],
   "source": [
    "sctreader.read_stories('data/sct_train.csv')"
   ]
  },
  {
   "cell_type": "code",
   "execution_count": 41,
   "metadata": {},
   "outputs": [
    {
     "name": "stdout",
     "output_type": "stream",
     "text": [
      "STORY BEGIN:\n",
      "   <bos> gina was worried the cookie dough in the tube would be gross . <eos>\n",
      "   <bos> she was very happy to find she was wrong . <eos>\n",
      "   <bos> the cookies from the tube were as good as from scratch . <eos>\n",
      "   <bos> gina intended to only eat 2 cookies and save the rest . <eos>\n",
      "REAL END:\n",
      "   <bos> gina liked the cookies so much she ate them all in one sitting . <eos>\n",
      "FAKE END:\n",
      "   <bos> gina gave the cookies away at her church . <eos>\n"
     ]
    }
   ],
   "source": [
    "story_index = 3\n",
    "print('STORY BEGIN:')\n",
    "stories = sctreader.read_stories('data/sct_val.csv')\n",
    "for text in tok.sequences_to_texts(stories.begin[story_index]):\n",
    "    print('  ', text)\n",
    "print('REAL END:')\n",
    "print('  ', tok.sequences_to_texts(stories.end_real[None, story_index])[0])\n",
    "print('FAKE END:')\n",
    "print('  ', tok.sequences_to_texts(stories.end_fake[None, story_index])[0])\n"
   ]
  },
  {
   "cell_type": "code",
   "execution_count": null,
   "metadata": {},
   "outputs": [],
   "source": []
  }
 ],
 "metadata": {
  "kernelspec": {
   "display_name": "Python 3",
   "language": "python",
   "name": "python3"
  },
  "language_info": {
   "codemirror_mode": {
    "name": "ipython",
    "version": 3
   },
   "file_extension": ".py",
   "mimetype": "text/x-python",
   "name": "python",
   "nbconvert_exporter": "python",
   "pygments_lexer": "ipython3",
   "version": "3.6.8"
  }
 },
 "nbformat": 4,
 "nbformat_minor": 2
}
