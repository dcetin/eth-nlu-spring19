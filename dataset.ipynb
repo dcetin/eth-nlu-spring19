{
 "cells": [
  {
   "cell_type": "code",
   "execution_count": 1,
   "metadata": {},
   "outputs": [],
   "source": [
    "%load_ext autoreload\n",
    "%autoreload 2"
   ]
  },
  {
   "cell_type": "code",
   "execution_count": 2,
   "metadata": {},
   "outputs": [],
   "source": [
    "import pandas as pd\n",
    "from sct_dataset import read_sct_stories\n",
    "from sct_dataset import SCTCachedReader\n",
    "from tokenizer import Tokenizer"
   ]
  },
  {
   "cell_type": "code",
   "execution_count": 3,
   "metadata": {},
   "outputs": [],
   "source": [
    "DATA_DIR = 'data'\n",
    "CACHE_DIR = 'cache'\n",
    "\n",
    "# download the data\n",
    "! test -d $DATA_DIR || mkdir $DATA_DIR\n",
    "! test -f \"$DATA_DIR/sct_train.csv\" || curl \"http://n.ethz.ch/~thomasdi/download/sct_train.csv\" --output \"$DATA_DIR/sct_train.csv\"\n",
    "! test -f \"$DATA_DIR/sct_val.csv\" || curl \"http://n.ethz.ch/~thomasdi/download/sct_val.csv\" --output \"$DATA_DIR/sct_val.csv\"\n",
    "\n",
    "# initialize cache dir\n",
    "! test -d $CACHE_DIR && rm -rf $CACHE_DIR"
   ]
  },
  {
   "cell_type": "code",
   "execution_count": 4,
   "metadata": {},
   "outputs": [],
   "source": [
    "texts_train = read_sct_stories('data/sct_train.csv')\n",
    "texts_eval = read_sct_stories('data/sct_val.csv')"
   ]
  },
  {
   "cell_type": "code",
   "execution_count": 5,
   "metadata": {},
   "outputs": [],
   "source": [
    "tok = Tokenizer().fit(texts_train.begin + texts_train.end_real)"
   ]
  },
  {
   "cell_type": "code",
   "execution_count": 6,
   "metadata": {},
   "outputs": [
    {
     "data": {
      "text/plain": [
       "64647"
      ]
     },
     "execution_count": 6,
     "metadata": {},
     "output_type": "execute_result"
    }
   ],
   "source": [
    "tok.vocabulary_size"
   ]
  },
  {
   "cell_type": "code",
   "execution_count": 7,
   "metadata": {},
   "outputs": [
    {
     "name": "stdout",
     "output_type": "stream",
     "text": [
      "# STATS FOR TRAINING DATA\n",
      "count    352644.000000\n",
      "mean         44.065451\n",
      "std          13.230812\n",
      "min           9.000000\n",
      "25%          34.000000\n",
      "50%          44.000000\n",
      "75%          54.000000\n",
      "max          86.000000\n",
      "dtype: float64\n",
      "# STATS FOR EVAL DATA\n",
      "count    7484.000000\n",
      "mean       45.646045\n",
      "std        12.919189\n",
      "min        11.000000\n",
      "25%        36.000000\n",
      "50%        46.000000\n",
      "75%        56.000000\n",
      "max        72.000000\n",
      "dtype: float64\n"
     ]
    }
   ],
   "source": [
    "print('# STATS FOR TRAINING DATA')\n",
    "print(pd.Series([len(seq) for seq in texts_train.begin]).describe())\n",
    "print('# STATS FOR EVAL DATA')\n",
    "print(pd.Series([len(seq) for seq in texts_eval.begin]).describe())"
   ]
  },
  {
   "cell_type": "code",
   "execution_count": 8,
   "metadata": {},
   "outputs": [],
   "source": [
    "# prepare tokenizer\n",
    "texts_train = read_sct_stories('data/sct_train.csv')\n",
    "tok = Tokenizer().fit(texts_train.begin + texts_train.end_real)\n",
    "\n",
    "# prepare SCT reader\n",
    "sctreader = SCTCachedReader.create(CACHE_DIR, tok)"
   ]
  },
  {
   "cell_type": "code",
   "execution_count": 9,
   "metadata": {},
   "outputs": [],
   "source": [
    "sctreader = SCTCachedReader.from_directory(CACHE_DIR)"
   ]
  },
  {
   "cell_type": "code",
   "execution_count": 10,
   "metadata": {},
   "outputs": [
    {
     "data": {
      "text/plain": [
       "SCTSequences(begin=array([[[    0,     0,     0, ...,    16,  5763,     2],\n",
       "        [    0,     0,     0, ...,  3559,   933,     2],\n",
       "        [    0,     0,     0, ...,    98,   933,     2],\n",
       "        [    0,     0,     0, ...,     9,  1789,     2]],\n",
       "\n",
       "       [[    0,     0,     0, ...,    55,    42,     2],\n",
       "        [    0,     0,     0, ...,   921,  1052,     2],\n",
       "        [    0,     0,     0, ...,   130,  6719,     2],\n",
       "        [    0,     0,     0, ...,    12, 40059,     2]],\n",
       "\n",
       "       [[    0,     0,     0, ...,    12,  3160,     2],\n",
       "        [    0,     0,     0, ...,    12,  3160,     2],\n",
       "        [    0,     0,     0, ...,   212, 30903,     2],\n",
       "        [    0,     0,     0, ...,    40, 20355,     2]],\n",
       "\n",
       "       ...,\n",
       "\n",
       "       [[    0,     0,     0, ...,    24,   792,     2],\n",
       "        [    0,     0,     0, ...,    16,   150,     2],\n",
       "        [    0,     0,     0, ...,     4, 25063,     2],\n",
       "        [    0,     0,     0, ...,     4,  1860,     2]],\n",
       "\n",
       "       [[    0,     0,     0, ...,    38,   538,     2],\n",
       "        [    0,     0,     0, ...,  1244,   322,     2],\n",
       "        [    0,     0,     0, ...,   270,  4298,     2],\n",
       "        [    0,     0,     0, ...,   680,   857,     2]],\n",
       "\n",
       "       [[    0,     0,     0, ...,  2215,  5606,     2],\n",
       "        [    0,     0,     0, ...,    78,  3208,     2],\n",
       "        [    0,     0,     0, ...,    63, 58944,     2],\n",
       "        [    0,     0,     0, ...,    44,  1005,     2]]], dtype=int32), end_real=array([[    0,     0,     0, ...,  3559,  2063,     2],\n",
       "       [    0,     0,     0, ...,   134,   129,     2],\n",
       "       [    0,     0,     0, ...,    73, 16315,     2],\n",
       "       ...,\n",
       "       [    0,     0,     0, ...,     4,   251,     2],\n",
       "       [    0,     0,     0, ...,   183,   306,     2],\n",
       "       [    0,     0,     0, ...,   342,    42,     2]], dtype=int32), end_fake=None)"
      ]
     },
     "execution_count": 10,
     "metadata": {},
     "output_type": "execute_result"
    }
   ],
   "source": [
    "sctreader.read_stories('data/sct_train.csv')"
   ]
  },
  {
   "cell_type": "code",
   "execution_count": null,
   "metadata": {},
   "outputs": [],
   "source": []
  }
 ],
 "metadata": {
  "kernelspec": {
   "display_name": "Python 3",
   "language": "python",
   "name": "python3"
  },
  "language_info": {
   "codemirror_mode": {
    "name": "ipython",
    "version": 3
   },
   "file_extension": ".py",
   "mimetype": "text/x-python",
   "name": "python",
   "nbconvert_exporter": "python",
   "pygments_lexer": "ipython3",
   "version": "3.6.8"
  }
 },
 "nbformat": 4,
 "nbformat_minor": 2
}
