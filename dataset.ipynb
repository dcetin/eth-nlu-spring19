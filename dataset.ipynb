{
 "cells": [
  {
   "cell_type": "code",
   "execution_count": 1,
   "metadata": {},
   "outputs": [],
   "source": [
    "%load_ext autoreload\n",
    "%autoreload 2"
   ]
  },
  {
   "cell_type": "code",
   "execution_count": 14,
   "metadata": {},
   "outputs": [],
   "source": [
    "import pandas as pd\n",
    "from sct_dataset import read_sct_stories\n",
    "from sct_dataset import SCTCachedReader\n",
    "from tokenizer import Tokenizer"
   ]
  },
  {
   "cell_type": "code",
   "execution_count": 15,
   "metadata": {},
   "outputs": [],
   "source": [
    "DATA_DIR = 'data'\n",
    "CACHE_DIR = 'cache'\n",
    "\n",
    "# download the data\n",
    "! test -d $DATA_DIR || mkdir $DATA_DIR\n",
    "! test -f \"$DATA_DIR/sct_train.csv\" || curl \"http://n.ethz.ch/~thomasdi/download/sct_train.csv\" --output \"$DATA_DIR/sct_train.csv\"\n",
    "! test -f \"$DATA_DIR/sct_val.csv\" || curl \"http://n.ethz.ch/~thomasdi/download/sct_val.csv\" --output \"$DATA_DIR/sct_val.csv\"\n",
    "\n",
    "# initialize cache dir\n",
    "! test -d $CACHE_DIR && rm -rf $CACHE_DIR"
   ]
  },
  {
   "cell_type": "code",
   "execution_count": 16,
   "metadata": {},
   "outputs": [],
   "source": [
    "texts_train = read_sct_stories('data/sct_train.csv')\n",
    "texts_eval = read_sct_stories('data/sct_val.csv')"
   ]
  },
  {
   "cell_type": "code",
   "execution_count": 17,
   "metadata": {},
   "outputs": [],
   "source": [
    "tok = Tokenizer().fit(texts_train.begin + texts_train.end_real)"
   ]
  },
  {
   "cell_type": "code",
   "execution_count": 18,
   "metadata": {},
   "outputs": [
    {
     "data": {
      "text/plain": [
       "34961"
      ]
     },
     "execution_count": 18,
     "metadata": {},
     "output_type": "execute_result"
    }
   ],
   "source": [
    "tok.vocabulary_size"
   ]
  },
  {
   "cell_type": "code",
   "execution_count": 19,
   "metadata": {},
   "outputs": [
    {
     "name": "stdout",
     "output_type": "stream",
     "text": [
      "# STATS FOR TRAINING DATA\n",
      "count    352644.000000\n",
      "mean         44.065451\n",
      "std          13.230812\n",
      "min           9.000000\n",
      "25%          34.000000\n",
      "50%          44.000000\n",
      "75%          54.000000\n",
      "max          86.000000\n",
      "dtype: float64\n",
      "# STATS FOR EVAL DATA\n",
      "count    7484.000000\n",
      "mean       45.646045\n",
      "std        12.919189\n",
      "min        11.000000\n",
      "25%        36.000000\n",
      "50%        46.000000\n",
      "75%        56.000000\n",
      "max        72.000000\n",
      "dtype: float64\n"
     ]
    }
   ],
   "source": [
    "print('# STATS FOR TRAINING DATA')\n",
    "print(pd.Series([len(seq) for seq in texts_train.begin]).describe())\n",
    "print('# STATS FOR EVAL DATA')\n",
    "print(pd.Series([len(seq) for seq in texts_eval.begin]).describe())"
   ]
  },
  {
   "cell_type": "code",
   "execution_count": 20,
   "metadata": {},
   "outputs": [],
   "source": [
    "# prepare tokenizer\n",
    "texts_train = read_sct_stories('data/sct_train.csv')\n",
    "tok = Tokenizer().fit(texts_train.begin + texts_train.end_real)\n",
    "\n",
    "# prepare SCT reader\n",
    "sctreader = SCTCachedReader.create(CACHE_DIR, tok)"
   ]
  },
  {
   "cell_type": "code",
   "execution_count": 21,
   "metadata": {},
   "outputs": [],
   "source": [
    "sctreader = SCTCachedReader.from_directory(CACHE_DIR)"
   ]
  },
  {
   "cell_type": "code",
   "execution_count": 30,
   "metadata": {},
   "outputs": [
    {
     "data": {
      "text/plain": [
       "SCTSequences(begin=array([[[    0,     0,     0, ...,  2457,     4,     2],\n",
       "        [    0,     0,     0, ...,   399,     4,     2],\n",
       "        [    0,     0,     0, ...,   399,     4,     2],\n",
       "        [    0,     0,     0, ...,   119,     4,     2]],\n",
       "\n",
       "       [[    0,     0,     0, ...,    15,     4,     2],\n",
       "        [    0,     0,     0, ...,   318,     4,     2],\n",
       "        [    0,     0,     0, ...,  2008,     4,     2],\n",
       "        [    0,     0,     0, ...,  9822,    42,     2]],\n",
       "\n",
       "       [[    0,     0,     0, ...,  1673,     4,     2],\n",
       "        [    0,     0,     0, ...,  1673,     4,     2],\n",
       "        [    0,     0,     0, ...,  2564,    13,     2],\n",
       "        [    0,     0,     0, ...,  5308,     4,     2]],\n",
       "\n",
       "       ...,\n",
       "\n",
       "       [[    0,     0,     0, ...,    99,     4,     2],\n",
       "        [    0,     0,     0, ...,    73,     4,     2],\n",
       "        [    0,     0,     0, ...,  3955,     4,     2],\n",
       "        [    0,     0,     0, ...,  1018,     4,     2]],\n",
       "\n",
       "       [[    0,     0,     0, ...,   320,     4,     2],\n",
       "        [    0,     0,     0, ...,   190,     4,     2],\n",
       "        [    0,     0,     0, ...,  2772,     4,     2],\n",
       "        [    0,     0,     0, ...,   164,     4,     2]],\n",
       "\n",
       "       [[    0,     0,     0, ...,  3362,     4,     2],\n",
       "        [    0,     0,     0, ...,   139,     4,     2],\n",
       "        [    0,     0,     0, ..., 32893,     4,     2],\n",
       "        [    0,     0,     0, ...,     6,     4,     2]]], dtype=int32), end_real=array([[   0,    0,    0, ..., 1009,    4,    2],\n",
       "       [   0,    0,    0, ...,   53,    4,    2],\n",
       "       [   0,    0,    0, ..., 5811,    4,    2],\n",
       "       ...,\n",
       "       [   0,    0,    0, ...,  111,    4,    2],\n",
       "       [   0,    0,    0, ...,   62,    4,    2],\n",
       "       [   0,    0,    0, ...,   15,    4,    2]], dtype=int32), end_fake=None)"
      ]
     },
     "execution_count": 30,
     "metadata": {},
     "output_type": "execute_result"
    }
   ],
   "source": [
    "sctreader.read_stories('data/sct_train.csv')"
   ]
  },
  {
   "cell_type": "code",
   "execution_count": 31,
   "metadata": {},
   "outputs": [
    {
     "data": {
      "text/plain": [
       "[\"<bos> kelly found her grandmother 's pizza recipe in a shoebox of memories . <eos>\",\n",
       " \"<bos> kelly reminisced about how much she loved her grandmother 's pizza . <eos>\",\n",
       " '<bos> kelly decided that she was going to try to make pizza . <eos>',\n",
       " '<bos> kelly studied the recipe and gathered everything she needed . <eos>']"
      ]
     },
     "execution_count": 31,
     "metadata": {},
     "output_type": "execute_result"
    }
   ],
   "source": [
    "stories = sctreader.read_stories('data/sct_train.csv')\n",
    "tok.sequences_to_texts(stories.begin[0])"
   ]
  },
  {
   "cell_type": "code",
   "execution_count": null,
   "metadata": {},
   "outputs": [],
   "source": []
  }
 ],
 "metadata": {
  "kernelspec": {
   "display_name": "Python 3",
   "language": "python",
   "name": "python3"
  },
  "language_info": {
   "codemirror_mode": {
    "name": "ipython",
    "version": 3
   },
   "file_extension": ".py",
   "mimetype": "text/x-python",
   "name": "python",
   "nbconvert_exporter": "python",
   "pygments_lexer": "ipython3",
   "version": "3.6.8"
  }
 },
 "nbformat": 4,
 "nbformat_minor": 2
}
